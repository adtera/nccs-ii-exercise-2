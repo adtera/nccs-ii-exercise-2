{
 "cells": [
  {
   "cell_type": "code",
   "execution_count": 6,
   "id": "4b0bf81d",
   "metadata": {},
   "outputs": [
    {
     "name": "stdout",
     "output_type": "stream",
     "text": [
      "[[0.1, 0.5, 0.9], [5.0, 6.0, 8.0], [1.0, 2.0, 3.0], [1.0, 0.0, 6.0]]\n",
      "[10.23083574  2.73313007  5.20288382  7.54983444  7.48331477  3.60555128]\n",
      "-0.06206901116610416\n"
     ]
    }
   ],
   "source": [
    "#!/usr/bin/env python\n",
    "import numpy.random as random\n",
    "import numpy as np\n",
    "#import jax\n",
    "#import jax.numpy as npj\n",
    "\n",
    "init_coord = []\n",
    "init_vel = []\n",
    "\n",
    "with open('input.txt') as f:\n",
    "    contents = f.readlines()\n",
    "    N_of_Atoms = int(contents[0])\n",
    "    side_legth = float(contents[2])\n",
    "    for i in range(N_of_Atoms):\n",
    "        Inp = contents[3+i].split()\n",
    "        coord = [float(e) for e in Inp[:3]]\n",
    "        vel = [float(e) for e in Inp[3:]]\n",
    "        init_coord.append(coord)\n",
    "        init_vel.append(vel)\n",
    "positions = np.array(init_coord)\n",
    "        \n",
    "#print (N_of_Atoms)\n",
    "print (init_coord)\n",
    " \n",
    "#def r(coord):\n",
    "    \n",
    "    \n",
    "\n",
    "def E_pot(positions):\n",
    "    delta = positions[:, np.newaxis, :] - positions\n",
    "    indices = np.triu_indices(positions.shape[0], k=1)\n",
    "    delta = delta[indices[0], indices[1], :]\n",
    "    r = np.sqrt((delta * delta).sum(axis=1))\n",
    "    print (r)\n",
    "    D_e = 1.6\n",
    "    Alpha = 3.028\n",
    "    r_e = 1.411\n",
    "    V_Morse = D_e * (np.exp(-2*Alpha*(r-r_e))-2*np.exp(-Alpha*(r-r_e)))\n",
    "    E_pot = np.sum(V_Morse)\n",
    "    return E_pot\n",
    "\n",
    "print (E_pot(positions))"
   ]
  },
  {
   "cell_type": "code",
   "execution_count": null,
   "id": "3f6af299",
   "metadata": {},
   "outputs": [],
   "source": []
  },
  {
   "cell_type": "code",
   "execution_count": null,
   "id": "671b9577",
   "metadata": {},
   "outputs": [],
   "source": []
  },
  {
   "cell_type": "code",
   "execution_count": null,
   "id": "c4f6f0f1",
   "metadata": {},
   "outputs": [],
   "source": []
  }
 ],
 "metadata": {
  "kernelspec": {
   "display_name": "Python 3 (ipykernel)",
   "language": "python",
   "name": "python3"
  },
  "language_info": {
   "codemirror_mode": {
    "name": "ipython",
    "version": 3
   },
   "file_extension": ".py",
   "mimetype": "text/x-python",
   "name": "python",
   "nbconvert_exporter": "python",
   "pygments_lexer": "ipython3",
   "version": "3.9.7"
  }
 },
 "nbformat": 4,
 "nbformat_minor": 5
}
