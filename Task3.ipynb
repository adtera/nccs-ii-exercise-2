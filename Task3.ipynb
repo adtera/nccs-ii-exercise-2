{
 "cells": [
  {
   "cell_type": "code",
   "execution_count": 3,
   "id": "4b0bf81d",
   "metadata": {},
   "outputs": [
    {
     "ename": "Error",
     "evalue": "Canceled future for execute_request message before replies were done",
     "output_type": "error",
     "traceback": [
      "Error: Canceled future for execute_request message before replies were done",
      "at t.KernelShellFutureHandler.dispose (c:\\Users\\JD_PC\\.vscode\\extensions\\ms-toolsai.jupyter-2022.3.1000901801\\out\\extension.js:2:1204175)",
      "at c:\\Users\\JD_PC\\.vscode\\extensions\\ms-toolsai.jupyter-2022.3.1000901801\\out\\extension.js:2:1223227",
      "at Map.forEach (<anonymous>)",
      "at v._clearKernelState (c:\\Users\\JD_PC\\.vscode\\extensions\\ms-toolsai.jupyter-2022.3.1000901801\\out\\extension.js:2:1223212)",
      "at v.dispose (c:\\Users\\JD_PC\\.vscode\\extensions\\ms-toolsai.jupyter-2022.3.1000901801\\out\\extension.js:2:1216694)",
      "at c:\\Users\\JD_PC\\.vscode\\extensions\\ms-toolsai.jupyter-2022.3.1000901801\\out\\extension.js:2:533674",
      "at t.swallowExceptions (c:\\Users\\JD_PC\\.vscode\\extensions\\ms-toolsai.jupyter-2022.3.1000901801\\out\\extension.js:2:913059)",
      "at dispose (c:\\Users\\JD_PC\\.vscode\\extensions\\ms-toolsai.jupyter-2022.3.1000901801\\out\\extension.js:2:533652)",
      "at t.RawSession.dispose (c:\\Users\\JD_PC\\.vscode\\extensions\\ms-toolsai.jupyter-2022.3.1000901801\\out\\extension.js:2:537330)",
      "at runMicrotasks (<anonymous>)",
      "at processTicksAndRejections (node:internal/process/task_queues:96:5)"
     ]
    }
   ],
   "source": [
    "#!/usr/bin/env python\n",
    "\n",
    "import numpy as np\n",
    "import jax\n",
    "import jax.numpy as npj\n",
    "\n",
    "init_coord = []\n",
    "init_vel = []\n",
    "\n",
    "with open('input.txt') as f:\n",
    "    contents = f.readlines()\n",
    "    N_of_Atoms = int(contents[0])\n",
    "    side_legth = float(contents[2])\n",
    "    for i in range(N_of_Atoms):\n",
    "        Inp = contents[3+i].split()\n",
    "        coord = [float(e) for e in Inp[:3]]\n",
    "        vel = [float(e) for e in Inp[3:]]\n",
    "        init_coord.append(coord)\n",
    "        init_vel.append(vel)\n",
    "coordinates = npj.array(init_coord)\n",
    "        \n",
    "#print (N_of_Atoms)\n",
    "print (init_coord)\n",
    "  \n",
    "\n",
    "def E_pot(positions):\n",
    "    delta = positions[:, npj.newaxis, :] - positions\n",
    "    indices = npj.triu_indices(positions.shape[0], k=1)\n",
    "    delta = delta[indices[0], indices[1], :]\n",
    "    r = npj.sqrt((delta * delta).sum(axis=1))\n",
    "    print (r)\n",
    "    D_e = 1.6\n",
    "    Alpha = 3.028\n",
    "    r_e = 1.411\n",
    "    V_Morse = D_e * (npj.exp(-2*Alpha*(r-r_e))-2*npj.exp(-Alpha*(r-r_e)))\n",
    "    E_pot = npj.sum(V_Morse)\n",
    "    return E_pot\n",
    "\n",
    "print (E_pot(coordinates))\n",
    "\n",
    "morse_gradient = jax.jit(jax.grad(E_pot))\n",
    "\n",
    "forces = - morse_gradient(coordinates)\n"
   ]
  }
 ],
 "metadata": {
  "kernelspec": {
   "display_name": "Python 3 (ipykernel)",
   "language": "python",
   "name": "python3"
  },
  "language_info": {
   "codemirror_mode": {
    "name": "ipython",
    "version": 3
   },
   "file_extension": ".py",
   "mimetype": "text/x-python",
   "name": "python",
   "nbconvert_exporter": "python",
   "pygments_lexer": "ipython3",
   "version": "3.7.9"
  }
 },
 "nbformat": 4,
 "nbformat_minor": 5
}
