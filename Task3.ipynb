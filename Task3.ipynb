{
 "cells": [
  {
   "cell_type": "code",
   "execution_count": 5,
   "id": "4b0bf81d",
   "metadata": {},
   "outputs": [
    {
     "name": "stdout",
     "output_type": "stream",
     "text": [
      "init_coord: [[0.1, 0.5, 0.9], [5.0, 6.0, 8.0], [1.0, 2.0, 3.0], [1.0, 0.0, 6.0]]\n",
      "r: [10.230836   2.73313    5.2028837  7.5498343  7.483315   3.6055512]\n",
      "E_pot: -0.062069009989500046\n",
      "r: [10.230836   2.73313    5.2028837  7.5498343  7.483315   3.6055512]\n",
      "r: Traced<ShapedArray(float32[6])>with<JVPTrace(level=2/1)> with\n",
      "  primal = Traced<ShapedArray(float32[6])>with<DynamicJaxprTrace(level=0/1)>\n",
      "  tangent = Traced<ShapedArray(float32[6])>with<JaxprTrace(level=1/1)> with\n",
      "    pval = (ShapedArray(float32[6]), *)\n",
      "    recipe = JaxprEqnRecipe(eqn_id=<object object at 0x10e537850>, invars=(Traced<ShapedArray(float32[6]):JaxprTrace(level=1/1)>, Traced<ShapedArray(float32[6]):JaxprTrace(level=1/1)>), outvars=[<weakref at 0x132349290; to 'JaxprTracer' at 0x1322ecd10>], primitive=xla_call, params={'device': None, 'backend': None, 'name': 'jvp(<lambda>)', 'donated_invars': (False, False), 'inline': True, 'call_jaxpr': { lambda ; a:f32[6] b:f32[6]. let c:f32[6] = mul b a in (c,) }}, effects=set(), source_info=SourceInfo(traceback=<jaxlib.xla_extension.Traceback object at 0x1323333b0>, name_stack=NameStack(stack=(Transform(name='jvp'),))))\n",
      "Potential energy:\n",
      "-0.06206901\n",
      "Forces:\n",
      "[[ 5.71952574e-02  9.52870175e-02  1.33513227e-01]\n",
      " [-9.69908314e-08 -1.23776672e-07 -8.10642717e-08]\n",
      " [-5.71779236e-02 -1.02276780e-01 -1.22944884e-01]\n",
      " [-1.72369091e-05  6.98989071e-03 -1.05682593e-02]]\n"
     ]
    }
   ],
   "source": [
    "#!/usr/bin/env python\n",
    "\n",
    "import numpy as np\n",
    "import jax\n",
    "import jax.numpy as npj\n",
    "\n",
    "init_coord = []\n",
    "init_vel = []\n",
    "\n",
    "with open('input.txt') as f:\n",
    "    contents = f.readlines()\n",
    "    N_of_Atoms = int(contents[0])\n",
    "    side_legth = float(contents[2])\n",
    "    for i in range(N_of_Atoms):\n",
    "        Inp = contents[3+i].split()\n",
    "        coord = [float(e) for e in Inp[:3]]\n",
    "        vel = [float(e) for e in Inp[3:]]\n",
    "        init_coord.append(coord)\n",
    "        init_vel.append(vel)\n",
    "coordinates = npj.array(init_coord)\n",
    "        \n",
    "#print (N_of_Atoms)\n",
    "print (f\"init_coord: {init_coord}\")\n",
    "  \n",
    "\n",
    "def E_pot(positions):\n",
    "    delta = positions[:, npj.newaxis, :] - positions\n",
    "    indices = npj.triu_indices(positions.shape[0], k=1)\n",
    "    delta = delta[indices[0], indices[1], :]\n",
    "    r = npj.sqrt((delta * delta).sum(axis=1))\n",
    "    print (f\"r: {r}\")\n",
    "    D_e = 1.6\n",
    "    Alpha = 3.028\n",
    "    r_e = 1.411\n",
    "    V_Morse = D_e * (npj.exp(-2*Alpha*(r-r_e))-2*npj.exp(-Alpha*(r-r_e)))\n",
    "    E_pot = npj.sum(V_Morse)\n",
    "    return E_pot\n",
    "\n",
    "print (f\"E_pot: {E_pot(coordinates)}\")\n",
    "\n",
    "morse_gradient = jax.jit(jax.grad(E_pot))\n",
    "\n",
    "e_pot = E_pot(coordinates)\n",
    "forces = - morse_gradient(coordinates)\n",
    "\n",
    "print(\"Potential energy:\", e_pot, \"Forces:\", forces, sep=\"\\n\")\n"
   ]
  }
 ],
 "metadata": {
  "kernelspec": {
   "display_name": "Python 3 (ipykernel)",
   "language": "python",
   "name": "python3"
  },
  "language_info": {
   "codemirror_mode": {
    "name": "ipython",
    "version": 3
   },
   "file_extension": ".py",
   "mimetype": "text/x-python",
   "name": "python",
   "nbconvert_exporter": "python",
   "pygments_lexer": "ipython3",
   "version": "3.7.4"
  }
 },
 "nbformat": 4,
 "nbformat_minor": 5
}
